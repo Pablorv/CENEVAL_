{
 "cells": [
  {
   "cell_type": "markdown",
   "metadata": {},
   "source": [
    "### Clase 4"
   ]
  },
  {
   "cell_type": "markdown",
   "metadata": {},
   "source": [
    "Ejercicio 1.\n",
    "\n",
    "¿Cuál es la torsión resultante en el punto $A$ de la figura mostrada? \n",
    "Notemos que podemos despreciar el peso de la barra."
   ]
  },
  {
   "cell_type": "markdown",
   "metadata": {},
   "source": [
    "Ejercicio 2.\n",
    "\n",
    "\n",
    "Si el pintor pesa $500 N$ y el tablón $300 N$, ¿Qué valores de fuerza se ejercen por los cables de soporte $C$ y $D$?"
   ]
  },
  {
   "cell_type": "markdown",
   "metadata": {},
   "source": [
    "Ejercicio 3.\n",
    "\n",
    "En una viga uniforme de $200kg$ de masa, se coloca un equilibrista en su extremo izquiero. ¿Cuánto debería pesar éste, para obtener el equilibrio?"
   ]
  },
  {
   "cell_type": "markdown",
   "metadata": {},
   "source": [
    "**Conservación de momento lineal**\n",
    "\n",
    "\n",
    "$$\n",
    "p=mv\n",
    "$$\n",
    "\n",
    "La cantidad total de momento lineal, si el sistema no tiene fuerzas externas, se conserva.\n",
    "\n",
    "\n"
   ]
  },
  {
   "cell_type": "markdown",
   "metadata": {},
   "source": [
    "Un camión de masa $2.5ton$ viaja a $70km/h$ y choca de frente contra una mosca de $3kg$ en reposo. Si la mosca y el camión se enganchan en el choque, ¿cuál es la velocidad después del impacto?\n",
    "\n",
    "\n",
    "$$\n",
    "m_{1}u_{1}+m_{2}u_{2}=m_{1}v_{1}+m_{2}v_{2}\n",
    "$$\n",
    "Como $1ton=1000kg$, entonces $m_{1}=2500kg$, $u_{1}=70km/h$ y $m_{2}=3kg$ con $u_{2}=0 km/h$, son los datos antes del impacto.\n",
    "\n",
    "Y  $1ton=1000kg$, entonces $m_{1}=2500kg$. Dado que el problema señala que los objetos se enganchan en el choque, entonces $v_{1}=v_{2}=v$ y $m_{2}=3kg$.\n",
    "\n"
   ]
  },
  {
   "cell_type": "markdown",
   "metadata": {},
   "source": [
    "**Energía y trabajo en campos gravitacionales**\n",
    "\n",
    "*Teorema trabajo-energía*\n",
    "\n",
    "\n",
    "Ejercicio 1.\n",
    "\n",
    "Un resorte, cuya constante de restitución es de $k=5N/m$, es oprimido por un tambo que rueda horizontalmente con una velocidad de $0.891m/s$ y su peso es de $50N. ¿Cuál será la deformación del resorte?. Despreciar la fricción entre el suelo y el tambo.\n",
    "\n",
    "\n",
    "\n",
    "\n",
    "\n"
   ]
  },
  {
   "cell_type": "code",
   "execution_count": null,
   "metadata": {},
   "outputs": [],
   "source": []
  }
 ],
 "metadata": {
  "kernelspec": {
   "display_name": "Python 3",
   "language": "python",
   "name": "python3"
  },
  "language_info": {
   "codemirror_mode": {
    "name": "ipython",
    "version": 3
   },
   "file_extension": ".py",
   "mimetype": "text/x-python",
   "name": "python",
   "nbconvert_exporter": "python",
   "pygments_lexer": "ipython3",
   "version": "3.7.6"
  }
 },
 "nbformat": 4,
 "nbformat_minor": 4
}
