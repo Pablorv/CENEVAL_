{
 "cells": [
  {
   "cell_type": "markdown",
   "metadata": {},
   "source": [
    "**Ejercicio conservación de momento**"
   ]
  },
  {
   "cell_type": "markdown",
   "metadata": {},
   "source": [
    "Un chimpancé de $4kg$ se encuentra sobre un carrito de $6kg$, si el mono salta del carro a una velocidad de $3m/s$ y éste sale disparado en sentido opuesto al del chimpancé, ¿Cuál es la magnitud de la velocidad del carrito?.\n",
    "\n",
    "\n"
   ]
  },
  {
   "cell_type": "markdown",
   "metadata": {},
   "source": [
    "### Termodinámica"
   ]
  },
  {
   "cell_type": "markdown",
   "metadata": {},
   "source": [
    "**Definiciones**"
   ]
  },
  {
   "cell_type": "markdown",
   "metadata": {},
   "source": [
    "* El **calor** es una forma de energía que está relacionada con el movimiento de los átomos y moléculas que componen al sistema.\n",
    "\n",
    "* La **temperatura** es la manifestación medible del calor almacenado en un sistema.\n",
    "\n",
    "* Si dos cuerpos con diferentes temperaturas entran en contacto, ocurre una **transferencia de calor**, que es un intercambio de calor entre los cuerpos. Y sucede del cuerpo más caliente al más frío.\n",
    "\n",
    "\n",
    "Existen distintos modos de transferencia de calor:\n",
    "\n",
    "\n",
    "* **Conducción de calor**.\n",
    "Intercambio de calor entre dos cuerpos. Sólidos, líquidos o gases.\n",
    "\n",
    "* **Convección.**\n",
    "Es el intercambio de calor entre un muro y un fluido (líquido o gas) el cual realiza el transporte de energía.\n",
    "\n",
    "* **Radiación.** \n",
    "Corresponde al intercambio de energía entre dos paredes o cuerpos entre los cuales existe un medio transparente y el transporte de energía ocurre mediante fotones, las partículas de los campos electromagnéticos."
   ]
  },
  {
   "cell_type": "markdown",
   "metadata": {},
   "source": [
    "**Calor específico**\n",
    "\n",
    "\n",
    "Es la cantidad de calor por unidad de masa requerida para aumentar la temperatura del material, por un grado Celsius. La relación entre calor y cambio de temperatura se expresa usualmente como:\n",
    "\n",
    "$$\n",
    "Q=Cm\\Delta T= Cm(T_{final}-T_{inicial})\n",
    "$$\n",
    "\n",
    "el cambio de la temperatura está dado por\n",
    "\n",
    "$$\n",
    "\\Delta T= \\frac{Q}{Cm}=\\frac{1}{Cm}Q\n",
    "$$\n",
    "\n",
    "$$\n",
    "Q=Cm(T_{final}-T_{inicial})\n",
    "$$\n",
    "\n",
    "$$\n",
    "T_{inicial}=\\frac{Q}{Cm}-T_{final}\n",
    "$$\n",
    "\n",
    "$$\n",
    "Cm=\\frac{Q}{\\Delta T}\n",
    "$$\n",
    "\n",
    "$$\n",
    "C=\\frac{Q}{m\\Delta T}\n",
    "$$"
   ]
  },
  {
   "cell_type": "markdown",
   "metadata": {},
   "source": [
    "Por ejemplo, el calor específico del agua es de \n",
    "\n",
    "$[N.m]=J$\n",
    "\n",
    "$$\n",
    "1 Cal/gram ^{\\circ}C= 4.186 J /gram ^{\\circ}C\n",
    "$$\n",
    "\n",
    "\n",
    "es mayor que el de muchas substancias comunes. Por lo tanto el agua juega un rol muy importante en la regulación de la temperatura del planeta Tierra.\n",
    "\n",
    "Cabe señalar que esta relación es válida lejos de la temperatura crítica $T_{c}$, ya que en un cambio de fase el calor añadido o removido del sistema no cambia la temperatura del mismo."
   ]
  },
  {
   "cell_type": "markdown",
   "metadata": {},
   "source": [
    "**Ejercicio**\n",
    "\n",
    "\n",
    "A un bloque de 10 kg de un material se le aplican $42,000 J$ de energía calorífica, si éste se encontraba a $-4^{\\circ}C$, determina la temperatura final del bloque del material. La capacidad térmica específica es de $2100 J/kg ^{\\circ}C.$\n",
    "\n",
    "\n",
    "$$\n",
    "Q=Cm(T_{final}-T_{inicial})\n",
    "$$\n",
    "\n",
    "$$\n",
    "\\frac{Q}{Cm}=T_{final}-T_{inicial}\n",
    "$$\n",
    "\n",
    "$$\n",
    "T_{final}=\\frac{Q}{Cm}+T_{inicial}\n",
    "$$\n",
    "\n",
    "\n",
    "$$\n",
    "T_{final}=\\frac{42,000 J}{(2100 J/kg ^{\\circ}C)*10kg}+ -4^{\\circ}C=-2^{\\circ}C\n",
    "$$\n"
   ]
  },
  {
   "cell_type": "markdown",
   "metadata": {},
   "source": [
    "**Leyes de la termodinámica**\n",
    "\n",
    "* Ley cero:\n",
    "Si dos sistemas están en equilibrio término con un tercer sistema, entonces están en equilibrio térmico entre sí.\n",
    "\n",
    "* Primera ley:\n",
    "$$\n",
    "\\Delta U_{sistema}= Q-W\n",
    "$$\n",
    "\n",
    "El cambio en la energía de un sistema $\\Delta U_{sistema}$, está dado por la suma del calor añadido al sistema más el trabajo realizado por él mismo.\n",
    "\n",
    "* Segunda ley:\n",
    "En un proceso termodinámico, la suma de las entropías de los sistemas interactuantes, aumenta. \n",
    "\n",
    "$$\n",
    "\\delta Q= T dS\n",
    "$$\n",
    "\n",
    "\n",
    "* Tercera Ley:\n",
    "No podemos llegar al cero obsoluto con un proceso finito de cambios termodinámicos. La entropía se aproxima a un valor constante cuando $T\\rightarrow 0 K$.\n"
   ]
  },
  {
   "cell_type": "markdown",
   "metadata": {},
   "source": [
    "### Electromagnetismo"
   ]
  },
  {
   "cell_type": "code",
   "execution_count": null,
   "metadata": {},
   "outputs": [],
   "source": []
  }
 ],
 "metadata": {
  "kernelspec": {
   "display_name": "Python 3",
   "language": "python",
   "name": "python3"
  },
  "language_info": {
   "codemirror_mode": {
    "name": "ipython",
    "version": 3
   },
   "file_extension": ".py",
   "mimetype": "text/x-python",
   "name": "python",
   "nbconvert_exporter": "python",
   "pygments_lexer": "ipython3",
   "version": "3.7.6"
  }
 },
 "nbformat": 4,
 "nbformat_minor": 4
}
