{
 "cells": [
  {
   "cell_type": "markdown",
   "metadata": {},
   "source": [
    "## Curso de regularización para examen CENEVAL 2020"
   ]
  },
  {
   "cell_type": "markdown",
   "metadata": {},
   "source": [
    "## Física"
   ]
  },
  {
   "cell_type": "markdown",
   "metadata": {},
   "source": [
    "## Mecánica Clásica"
   ]
  },
  {
   "cell_type": "markdown",
   "metadata": {},
   "source": [
    "### Clase 1. \n",
    "\n"
   ]
  },
  {
   "cell_type": "markdown",
   "metadata": {},
   "source": [
    "#### Caída libre y tiro vertical"
   ]
  },
  {
   "cell_type": "markdown",
   "metadata": {},
   "source": [
    "Utilizando la segunda Ley de Newton, en un campo gravitacional donde la fuerza está dada por $F=-m_{g}g$\n",
    "(suponiendo que la masa gravitacional y la inercial son iguales, es decir que\n",
    "$m_{i}=m_{g}$)\n",
    "$$\n",
    "a=-g\n",
    "$$\n",
    "\n",
    "$$\n",
    "a=\\frac{dv}{dt}=-g\n",
    "$$\n",
    "$$\n",
    "\\Delta v=-gt\n",
    "$$\n",
    "$$\n",
    "v=v_{0}-gt...(1)\n",
    "$$\n",
    "\n",
    "\n",
    "$$\n",
    "v=\\frac{dy}{dt}=v_{0}-gt\n",
    "$$\n",
    "\n",
    "$$\n",
    "\\Delta y= v_{0}t-\\frac{1}{2}gt^{2}\n",
    "$$\n",
    "\n",
    "$$\n",
    "y=y_{0}+v_{0}t-\\frac{1}{2}gt^{2}...(2)\n",
    "$$\n",
    "\n",
    "$$\n",
    "v^{2}=(v_{0}-gt)^{2}= v^{2}_{0}-2v_{0}gt+g^{2}t^{2}\n",
    "$$"
   ]
  },
  {
   "cell_type": "code",
   "execution_count": null,
   "metadata": {},
   "outputs": [],
   "source": []
  },
  {
   "cell_type": "markdown",
   "metadata": {},
   "source": [
    "$$\n",
    "v^{2}=v^{2}_{0}-2v_{0}gt+g(gt^{2})...(*)\n",
    "$$"
   ]
  },
  {
   "cell_type": "markdown",
   "metadata": {},
   "source": [
    "Despejando $gt^{2}$ de la ecuación (2), obtenemos\n",
    "\n",
    "\n",
    "$$\n",
    "\\frac{1}{2}gt^{2}=y_{0}+v_{0}t-y\n",
    "$$\n",
    "\n",
    "\n",
    "$$\n",
    "gt^{2}=2y_{0}+2v_{0}t-2y\n",
    "$$\n",
    "\n",
    "En la ecuación (*) sustituimos este resultado y obtenemos\n",
    "\n",
    "$$\n",
    "v^{2}=v^{2}_{0}-2v_{0}gt+g(2y_{0}+2v_{0}t-2y)\n",
    "$$\n",
    "\n",
    "$$\n",
    "v^{2}=v^{2}_{0}-2v_{0}gt+g2y_{0}+2v_{0}gt-2yg\n",
    "$$\n",
    "\n",
    "\n",
    "$$\n",
    "v^{2}=v^{2}_{0}+g2y_{0}-2yg\n",
    "$$\n",
    "\n",
    "\n",
    "$$\n",
    "v^{2}=v^{2}_{0}-2g(y-y_{0})...(3)\n",
    "$$\n",
    "\n",
    "\n",
    "$$\n",
    "v^{2}=v^{2}_{0}-2g\\Delta y\n",
    "$$\n"
   ]
  },
  {
   "cell_type": "markdown",
   "metadata": {},
   "source": [
    "Sugerencias de solución de problemas de caída libre.\n",
    "\n",
    "\n",
    "(1) Fíjate en el signo de $g$ del problema. Ojo: tú lo puedes elegir, pero debes ser **consistente**. Si decimos que $g<0$ entonces la dirección en el eje de las \"y\" será positiva hacia arriba y negativa hacia abajo.\n",
    "\n",
    "(2) Dibuja el problema.\n",
    "\n",
    "(3) Identifica la información que ya tienes y la que te están pidiendo.\n",
    "\n",
    "(4) A partir de identificar lo que necesitas obtener, decide qué ecuación te será útil para encontrar éstas incógnitas.\n",
    "\n",
    "$$\n",
    "v=v_{0}-gt...(1)\n",
    "$$\n",
    "$$\n",
    "y=y_{0}+v_{0}t-\\frac{1}{2}gt^{2}...(2)\n",
    "$$\n",
    "$$\n",
    "v^{2}=v^{2}_{0}-2g(y-y_{0})...(3)\n",
    "$$\n"
   ]
  },
  {
   "cell_type": "markdown",
   "metadata": {},
   "source": [
    "#### Ejercicio 1.\n",
    "\n",
    "\n",
    "Se suelta una pelota desde lo alto de un edificio de $98m$ con una velocidad inicial de $4.9m/s$ hacia abajo\n",
    "\n",
    "(a)¿Cuánto tiempo tarda la pelota en llegar al suelo?\n",
    "\n",
    "(b) ¿Qué velocidad tiene la pelota cuando llega al suelo?\n",
    "\n",
    "*Estrategia*\n",
    "Elegir el origen en la cima del edificio. Encontrar el tiempo para el cual la posición de la pelota es $y=-98m$. Lo haremos utilizando la ec.(2).\n",
    "\n",
    "**Solución.**\n",
    "\n",
    "(a) $y_{0}=0$, $v_{0}=-4.9m/s$ y $g=9.8m/s^{2}$ y $y=-98m$. Sustituyendo esta información en (2), obtenemos\n",
    "\n",
    "$-98m=[-4.9m/s] t -1/2[9.8m/s^{2}]t^{2}$\n",
    "\n",
    "$$\n",
    "-98=-4.9t-4.9t^{2}\n",
    "$$\n",
    "\n",
    "$$\n",
    "-20=-t-t^{2}\n",
    "$$\n",
    "\n",
    "\n",
    "$$\n",
    "t^{2}+t-20=0\n",
    "$$\n",
    "\n",
    "$(t+5)(t-4)=0$\n",
    "$$\n",
    "t=-5seg\n",
    "$$\n",
    "$$\n",
    "t=4seg\n",
    "$$"
   ]
  },
  {
   "cell_type": "markdown",
   "metadata": {},
   "source": [
    "(b) Utilizamos la ecuación (1)\n",
    "$$v=v_{0}-gt$$\n",
    "\n",
    "Sustituyendo $v_{0}, g$ y $t$, obtenemos\n",
    "\n",
    "$$v=-4.9m/s-(9.81m/s^{2})4seg= -44.14m/s$$"
   ]
  },
  {
   "cell_type": "code",
   "execution_count": null,
   "metadata": {},
   "outputs": [],
   "source": []
  },
  {
   "cell_type": "code",
   "execution_count": null,
   "metadata": {},
   "outputs": [],
   "source": []
  },
  {
   "cell_type": "code",
   "execution_count": null,
   "metadata": {},
   "outputs": [],
   "source": []
  },
  {
   "cell_type": "markdown",
   "metadata": {},
   "source": [
    "#### Tiro parabólico"
   ]
  },
  {
   "cell_type": "markdown",
   "metadata": {},
   "source": [
    "https://phet.colorado.edu/sims/html/projectile-motion/latest/projectile-motion_en.html"
   ]
  }
 ],
 "metadata": {
  "kernelspec": {
   "display_name": "Python 3",
   "language": "python",
   "name": "python3"
  },
  "language_info": {
   "codemirror_mode": {
    "name": "ipython",
    "version": 3
   },
   "file_extension": ".py",
   "mimetype": "text/x-python",
   "name": "python",
   "nbconvert_exporter": "python",
   "pygments_lexer": "ipython3",
   "version": "3.7.6"
  }
 },
 "nbformat": 4,
 "nbformat_minor": 4
}
