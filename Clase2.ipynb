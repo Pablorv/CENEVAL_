{
 "cells": [
  {
   "cell_type": "markdown",
   "metadata": {},
   "source": [
    "### Clase 2. "
   ]
  },
  {
   "cell_type": "markdown",
   "metadata": {},
   "source": [
    "**Ejemplo 2.**\n",
    "\n",
    "Un baseballista golpea una pelota hacia arriba y $5seg$ después otro jugador la cacha.\n",
    "\n",
    "(a) ¿Cuál es la velocidad inicial de la pelota?\n",
    "\n",
    "(b) ¿Cuál es la altura máxima que la pelota alcanza?\n",
    "\n",
    "(c) ¿Cuánto tiempo tarda en llegar a la altura máxima?\n",
    "\n",
    "(d) ¿Cuál es la acelaración en este punto?\n",
    "\n",
    "(e) ¿Cuál es la velocidad de la pelota cuando el otro jugador la cacha?\n",
    "\n",
    "Supón que la pelota es lanzada y cachada en el mismo lugar.\n"
   ]
  },
  {
   "cell_type": "markdown",
   "metadata": {},
   "source": [
    "$$\n",
    "v=v_{0}-gt...(1)\n",
    "$$\n",
    "$$\n",
    "y=y_{0}+v_{0}t-\\frac{1}{2}gt^{2}...(2)\n",
    "$$\n",
    "$$\n",
    "v^{2}=v^{2}_{0}-2g(y-y_{0})...(3)\n",
    "$$"
   ]
  },
  {
   "cell_type": "markdown",
   "metadata": {},
   "source": [
    "**Solución..**\n",
    "\n",
    "(a) Sustituyendo en la ecuación (2) los valores de $y=0$, $y_{0}=0$ y $t_{T}=5seg$, obtenemos de\n",
    "\n",
    "$$\n",
    "0=0+v_{0}(5seg)-\\frac{1}{2}(9.81m/s^{2})(5seg)^{2}\n",
    "$$\n",
    "\n",
    "$$\n",
    "v_{0}=24.5m/s\n",
    "$$"
   ]
  },
  {
   "cell_type": "markdown",
   "metadata": {},
   "source": [
    "(b) Sustituyendo en la ecuación (3) los valores de $v=0$ (esto significa que estamos tratando de obtener la altura máxima), $v_{0}=24.5m/s$, $y_{0}=0$:\n",
    "\n",
    "$$\n",
    "0=(24.5m/s)^{2}-2(9.81m/s^{2})y\n",
    "$$\n",
    "\n",
    "$$\n",
    "y=30.6m\n",
    "$$"
   ]
  },
  {
   "cell_type": "markdown",
   "metadata": {},
   "source": [
    "(c) Sustituyendo en la ecuación (1) los valores de $v=0$, $v_{0}=24.5m/s$ y $g$.\n",
    "$$\n",
    "0=24.5m/s-(9.81m/s^{2})t_{máx}\n",
    "$$\n",
    "\n",
    "$$\n",
    "t_{máx}=2.5seg\n",
    "$$\n",
    "\n",
    "(pero esto ya lo sabíamos por el análisis físico previamente realizado)"
   ]
  },
  {
   "cell_type": "markdown",
   "metadata": {},
   "source": [
    "(d) Evidentemente, dado que el campo gravitacional es uniforme en este problema, la aceleración de un objeto en cada punto del espacio es ¡$g$!."
   ]
  },
  {
   "cell_type": "markdown",
   "metadata": {},
   "source": [
    "(e) \n",
    "\n",
    "$$\n",
    "v=24.5m/s-(9.81m/s^{2})(5seg)\n",
    "$$\n",
    "\n",
    "$$\n",
    "v=-24.5m/s\n",
    "$$"
   ]
  },
  {
   "cell_type": "code",
   "execution_count": null,
   "metadata": {},
   "outputs": [],
   "source": []
  },
  {
   "cell_type": "markdown",
   "metadata": {},
   "source": [
    "**Ejemplo 3.**\n",
    "\n",
    "Un pequeño cohete despega hacia arriba. Tiene un propulsor, el cual suelta a una altura de $5.0km$ con una velocidad de $200 m/s$. \n",
    "\n",
    "(a) ¿Cuál es la altura máxima que el propulsor alcanza?\n",
    "(b) ¿Cuál es la velocidad del propulsor a una altura de $6.0 km$?"
   ]
  },
  {
   "cell_type": "markdown",
   "metadata": {},
   "source": [
    "**Solución.**"
   ]
  },
  {
   "cell_type": "markdown",
   "metadata": {},
   "source": [
    "(a) Sustituyendo los valores de $v=0$ (éste es el punto en el que se alcanza la altura máxima), $v_{0}=200m/s$ y $y_{0}=0m$, $g=9.81m/s^{2}$\n",
    "$$\n",
    "0= (200m/s)^{2}-2(9.81m/s^{2})y\n",
    "$$\n",
    "\n",
    "$$\n",
    "y=2040.8m\n",
    "$$\n"
   ]
  },
  {
   "cell_type": "markdown",
   "metadata": {},
   "source": [
    "(b) $6km$ en el sistema de referencia del suelo equivalen a $1km$ en el sistema de referencia que nosotros elegimos. Con este dato y la ecuación (3) obtendremos la respuesta a este inciso.\n",
    "\n",
    "Sustituimos en (3) los valores de $v_{0}=200m/s$ $y_{0}=0$ y además $y=1km$.\n",
    "\n",
    "\n",
    "\n",
    "$$\n",
    "v^{2}=(200m/s)^{2}-2(9.81m/s^{2})(1km)\n",
    "$$\n",
    "\n",
    "\n",
    "$$\n",
    "v=\\pm 142.8m/s\n",
    "$$"
   ]
  },
  {
   "cell_type": "code",
   "execution_count": null,
   "metadata": {},
   "outputs": [],
   "source": []
  },
  {
   "cell_type": "code",
   "execution_count": null,
   "metadata": {},
   "outputs": [],
   "source": []
  },
  {
   "cell_type": "code",
   "execution_count": null,
   "metadata": {},
   "outputs": [],
   "source": []
  },
  {
   "cell_type": "markdown",
   "metadata": {},
   "source": [
    "#### Tiro parabólico"
   ]
  },
  {
   "cell_type": "markdown",
   "metadata": {},
   "source": [
    "$$ \n",
    "F=ma\n",
    "$$\n",
    "\n",
    "$$\n",
    "(F_{x},F_{y})=m(a_{x},a_{y})\n",
    "$$\n",
    "\n",
    "$$\n",
    "(0,-mg)=m(a_{x},a_{y})\n",
    "$$\n",
    "\n"
   ]
  },
  {
   "cell_type": "code",
   "execution_count": null,
   "metadata": {},
   "outputs": [],
   "source": []
  },
  {
   "cell_type": "code",
   "execution_count": null,
   "metadata": {},
   "outputs": [],
   "source": []
  },
  {
   "cell_type": "code",
   "execution_count": null,
   "metadata": {},
   "outputs": [],
   "source": []
  },
  {
   "cell_type": "code",
   "execution_count": null,
   "metadata": {},
   "outputs": [],
   "source": []
  },
  {
   "cell_type": "code",
   "execution_count": null,
   "metadata": {},
   "outputs": [],
   "source": []
  },
  {
   "cell_type": "code",
   "execution_count": null,
   "metadata": {},
   "outputs": [],
   "source": []
  },
  {
   "cell_type": "markdown",
   "metadata": {},
   "source": [
    "**Nomenclatura general para problemas de tiro parabólico**"
   ]
  },
  {
   "cell_type": "code",
   "execution_count": null,
   "metadata": {},
   "outputs": [],
   "source": []
  },
  {
   "cell_type": "code",
   "execution_count": null,
   "metadata": {},
   "outputs": [],
   "source": []
  },
  {
   "cell_type": "code",
   "execution_count": null,
   "metadata": {},
   "outputs": [],
   "source": []
  },
  {
   "cell_type": "code",
   "execution_count": null,
   "metadata": {},
   "outputs": [],
   "source": []
  },
  {
   "cell_type": "code",
   "execution_count": null,
   "metadata": {},
   "outputs": [],
   "source": []
  },
  {
   "cell_type": "code",
   "execution_count": null,
   "metadata": {},
   "outputs": [],
   "source": []
  },
  {
   "cell_type": "markdown",
   "metadata": {},
   "source": [
    "#### Ley de Gravitación Universal de Newton"
   ]
  },
  {
   "cell_type": "code",
   "execution_count": null,
   "metadata": {},
   "outputs": [],
   "source": []
  },
  {
   "cell_type": "code",
   "execution_count": null,
   "metadata": {},
   "outputs": [],
   "source": []
  },
  {
   "cell_type": "code",
   "execution_count": null,
   "metadata": {},
   "outputs": [],
   "source": []
  },
  {
   "cell_type": "code",
   "execution_count": null,
   "metadata": {},
   "outputs": [],
   "source": []
  },
  {
   "cell_type": "code",
   "execution_count": null,
   "metadata": {},
   "outputs": [],
   "source": []
  },
  {
   "cell_type": "markdown",
   "metadata": {},
   "source": [
    "#### Ley de Hooke y oscilador armónico"
   ]
  },
  {
   "cell_type": "code",
   "execution_count": null,
   "metadata": {},
   "outputs": [],
   "source": []
  },
  {
   "cell_type": "code",
   "execution_count": null,
   "metadata": {},
   "outputs": [],
   "source": []
  },
  {
   "cell_type": "code",
   "execution_count": null,
   "metadata": {},
   "outputs": [],
   "source": []
  },
  {
   "cell_type": "code",
   "execution_count": null,
   "metadata": {},
   "outputs": [],
   "source": []
  },
  {
   "cell_type": "markdown",
   "metadata": {},
   "source": [
    "#### Equilibrio rotacional y translacional"
   ]
  },
  {
   "cell_type": "code",
   "execution_count": null,
   "metadata": {},
   "outputs": [],
   "source": []
  }
 ],
 "metadata": {
  "kernelspec": {
   "display_name": "Python 3",
   "language": "python",
   "name": "python3"
  },
  "language_info": {
   "codemirror_mode": {
    "name": "ipython",
    "version": 3
   },
   "file_extension": ".py",
   "mimetype": "text/x-python",
   "name": "python",
   "nbconvert_exporter": "python",
   "pygments_lexer": "ipython3",
   "version": "3.7.6"
  }
 },
 "nbformat": 4,
 "nbformat_minor": 4
}
