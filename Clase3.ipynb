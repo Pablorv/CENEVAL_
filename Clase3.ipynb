{
 "cells": [
  {
   "cell_type": "markdown",
   "metadata": {},
   "source": [
    "### Clase 3"
   ]
  },
  {
   "cell_type": "markdown",
   "metadata": {},
   "source": [
    "**Ejercicio tiro parabólico**\n",
    "\n",
    "Si una persona con un peso de $460.6 N$, tomando en cuenta que la aceleración gravitatoria es de $g=9.81m/s^{2}$, es tirado de un cañón a $77^{\\circ}$ con una rapidez $18m/s$, ¿cuál es el rango y la altura máxima?.\n",
    "\n",
    "*Estrategia*\n",
    "\n",
    "\n"
   ]
  }
 ],
 "metadata": {
  "kernelspec": {
   "display_name": "Python 3",
   "language": "python",
   "name": "python3"
  },
  "language_info": {
   "codemirror_mode": {
    "name": "ipython",
    "version": 3
   },
   "file_extension": ".py",
   "mimetype": "text/x-python",
   "name": "python",
   "nbconvert_exporter": "python",
   "pygments_lexer": "ipython3",
   "version": "3.7.6"
  }
 },
 "nbformat": 4,
 "nbformat_minor": 4
}
